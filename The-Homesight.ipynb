{
 "cells": [
  {
   "cell_type": "code",
   "execution_count": 1,
   "id": "72f55d82-cd7c-4543-8cd4-b707de1300a1",
   "metadata": {},
   "outputs": [
    {
     "name": "stdout",
     "output_type": "stream",
     "text": [
      "Requirement already satisfied: pandas in c:\\users\\vijay\\anaconda3\\lib\\site-packages (2.2.2)\n",
      "Requirement already satisfied: numpy in c:\\users\\vijay\\anaconda3\\lib\\site-packages (1.26.4)\n",
      "Requirement already satisfied: scikit-learn in c:\\users\\vijay\\anaconda3\\lib\\site-packages (1.5.1)\n",
      "Requirement already satisfied: matplotlib in c:\\users\\vijay\\anaconda3\\lib\\site-packages (3.9.2)\n",
      "Requirement already satisfied: seaborn in c:\\users\\vijay\\anaconda3\\lib\\site-packages (0.13.2)\n",
      "Requirement already satisfied: imbalanced-learn in c:\\users\\vijay\\anaconda3\\lib\\site-packages (0.12.3)\n",
      "Requirement already satisfied: flask in c:\\users\\vijay\\anaconda3\\lib\\site-packages (3.0.3)\n",
      "Requirement already satisfied: shap in c:\\users\\vijay\\anaconda3\\lib\\site-packages (0.47.1)\n",
      "Requirement already satisfied: ipywidgets in c:\\users\\vijay\\anaconda3\\lib\\site-packages (8.1.5)\n",
      "Requirement already satisfied: python-dateutil>=2.8.2 in c:\\users\\vijay\\anaconda3\\lib\\site-packages (from pandas) (2.9.0.post0)\n",
      "Requirement already satisfied: pytz>=2020.1 in c:\\users\\vijay\\anaconda3\\lib\\site-packages (from pandas) (2024.1)\n",
      "Requirement already satisfied: tzdata>=2022.7 in c:\\users\\vijay\\anaconda3\\lib\\site-packages (from pandas) (2023.3)\n",
      "Requirement already satisfied: scipy>=1.6.0 in c:\\users\\vijay\\anaconda3\\lib\\site-packages (from scikit-learn) (1.13.1)\n",
      "Requirement already satisfied: joblib>=1.2.0 in c:\\users\\vijay\\anaconda3\\lib\\site-packages (from scikit-learn) (1.4.2)\n",
      "Requirement already satisfied: threadpoolctl>=3.1.0 in c:\\users\\vijay\\anaconda3\\lib\\site-packages (from scikit-learn) (3.5.0)\n",
      "Requirement already satisfied: contourpy>=1.0.1 in c:\\users\\vijay\\anaconda3\\lib\\site-packages (from matplotlib) (1.2.0)\n",
      "Requirement already satisfied: cycler>=0.10 in c:\\users\\vijay\\anaconda3\\lib\\site-packages (from matplotlib) (0.11.0)\n",
      "Requirement already satisfied: fonttools>=4.22.0 in c:\\users\\vijay\\anaconda3\\lib\\site-packages (from matplotlib) (4.51.0)\n",
      "Requirement already satisfied: kiwisolver>=1.3.1 in c:\\users\\vijay\\anaconda3\\lib\\site-packages (from matplotlib) (1.4.4)\n",
      "Requirement already satisfied: packaging>=20.0 in c:\\users\\vijay\\anaconda3\\lib\\site-packages (from matplotlib) (24.1)\n",
      "Requirement already satisfied: pillow>=8 in c:\\users\\vijay\\anaconda3\\lib\\site-packages (from matplotlib) (10.4.0)\n",
      "Requirement already satisfied: pyparsing>=2.3.1 in c:\\users\\vijay\\anaconda3\\lib\\site-packages (from matplotlib) (3.1.2)\n",
      "Requirement already satisfied: Werkzeug>=3.0.0 in c:\\users\\vijay\\anaconda3\\lib\\site-packages (from flask) (3.0.3)\n",
      "Requirement already satisfied: Jinja2>=3.1.2 in c:\\users\\vijay\\anaconda3\\lib\\site-packages (from flask) (3.1.4)\n",
      "Requirement already satisfied: itsdangerous>=2.1.2 in c:\\users\\vijay\\anaconda3\\lib\\site-packages (from flask) (2.2.0)\n",
      "Requirement already satisfied: click>=8.1.3 in c:\\users\\vijay\\anaconda3\\lib\\site-packages (from flask) (8.1.7)\n",
      "Requirement already satisfied: blinker>=1.6.2 in c:\\users\\vijay\\anaconda3\\lib\\site-packages (from flask) (1.6.2)\n",
      "Requirement already satisfied: tqdm>=4.27.0 in c:\\users\\vijay\\anaconda3\\lib\\site-packages (from shap) (4.66.5)\n",
      "Requirement already satisfied: slicer==0.0.8 in c:\\users\\vijay\\anaconda3\\lib\\site-packages (from shap) (0.0.8)\n",
      "Requirement already satisfied: numba>=0.54 in c:\\users\\vijay\\anaconda3\\lib\\site-packages (from shap) (0.60.0)\n",
      "Requirement already satisfied: cloudpickle in c:\\users\\vijay\\anaconda3\\lib\\site-packages (from shap) (3.0.0)\n",
      "Requirement already satisfied: typing-extensions in c:\\users\\vijay\\anaconda3\\lib\\site-packages (from shap) (4.11.0)\n",
      "Requirement already satisfied: comm>=0.1.3 in c:\\users\\vijay\\anaconda3\\lib\\site-packages (from ipywidgets) (0.2.1)\n",
      "Requirement already satisfied: ipython>=6.1.0 in c:\\users\\vijay\\anaconda3\\lib\\site-packages (from ipywidgets) (8.27.0)\n",
      "Requirement already satisfied: traitlets>=4.3.1 in c:\\users\\vijay\\anaconda3\\lib\\site-packages (from ipywidgets) (5.14.3)\n",
      "Requirement already satisfied: widgetsnbextension~=4.0.12 in c:\\users\\vijay\\anaconda3\\lib\\site-packages (from ipywidgets) (4.0.13)\n",
      "Requirement already satisfied: jupyterlab-widgets~=3.0.12 in c:\\users\\vijay\\anaconda3\\lib\\site-packages (from ipywidgets) (3.0.13)\n",
      "Requirement already satisfied: colorama in c:\\users\\vijay\\anaconda3\\lib\\site-packages (from click>=8.1.3->flask) (0.4.6)\n",
      "Requirement already satisfied: decorator in c:\\users\\vijay\\anaconda3\\lib\\site-packages (from ipython>=6.1.0->ipywidgets) (5.1.1)\n",
      "Requirement already satisfied: jedi>=0.16 in c:\\users\\vijay\\anaconda3\\lib\\site-packages (from ipython>=6.1.0->ipywidgets) (0.19.1)\n",
      "Requirement already satisfied: matplotlib-inline in c:\\users\\vijay\\anaconda3\\lib\\site-packages (from ipython>=6.1.0->ipywidgets) (0.1.6)\n",
      "Requirement already satisfied: prompt-toolkit<3.1.0,>=3.0.41 in c:\\users\\vijay\\anaconda3\\lib\\site-packages (from ipython>=6.1.0->ipywidgets) (3.0.43)\n",
      "Requirement already satisfied: pygments>=2.4.0 in c:\\users\\vijay\\anaconda3\\lib\\site-packages (from ipython>=6.1.0->ipywidgets) (2.15.1)\n",
      "Requirement already satisfied: stack-data in c:\\users\\vijay\\anaconda3\\lib\\site-packages (from ipython>=6.1.0->ipywidgets) (0.2.0)\n",
      "Requirement already satisfied: MarkupSafe>=2.0 in c:\\users\\vijay\\anaconda3\\lib\\site-packages (from Jinja2>=3.1.2->flask) (2.1.3)\n",
      "Requirement already satisfied: llvmlite<0.44,>=0.43.0dev0 in c:\\users\\vijay\\anaconda3\\lib\\site-packages (from numba>=0.54->shap) (0.43.0)\n",
      "Requirement already satisfied: six>=1.5 in c:\\users\\vijay\\anaconda3\\lib\\site-packages (from python-dateutil>=2.8.2->pandas) (1.16.0)\n",
      "Requirement already satisfied: parso<0.9.0,>=0.8.3 in c:\\users\\vijay\\anaconda3\\lib\\site-packages (from jedi>=0.16->ipython>=6.1.0->ipywidgets) (0.8.3)\n",
      "Requirement already satisfied: wcwidth in c:\\users\\vijay\\anaconda3\\lib\\site-packages (from prompt-toolkit<3.1.0,>=3.0.41->ipython>=6.1.0->ipywidgets) (0.2.5)\n",
      "Requirement already satisfied: executing in c:\\users\\vijay\\anaconda3\\lib\\site-packages (from stack-data->ipython>=6.1.0->ipywidgets) (0.8.3)\n",
      "Requirement already satisfied: asttokens in c:\\users\\vijay\\anaconda3\\lib\\site-packages (from stack-data->ipython>=6.1.0->ipywidgets) (2.0.5)\n",
      "Requirement already satisfied: pure-eval in c:\\users\\vijay\\anaconda3\\lib\\site-packages (from stack-data->ipython>=6.1.0->ipywidgets) (0.2.2)\n"
     ]
    }
   ],
   "source": [
    "!pip install pandas numpy scikit-learn matplotlib seaborn imbalanced-learn flask shap ipywidgets"
   ]
  },
  {
   "cell_type": "code",
   "execution_count": null,
   "id": "4ded595a-16ce-4542-8233-d1171d97755b",
   "metadata": {},
   "outputs": [],
   "source": [
    "# Load and Prepare Data\n",
    "import pandas as pd\n",
    "import numpy as np\n",
    "from sklearn.model_selection import train_test_split\n",
    "from sklearn.preprocessing import StandardScaler\n",
    "from imblearn.over_sampling import SMOTE\n",
    "\n",
    "# Load dataset\n",
    "df = pd.read_csv('predictive_maintenance.csv')\n",
    "\n",
    "# Display first 5 rows\n",
    "display(df.head())\n",
    "\n",
    "# Basic preprocessing\n",
    "X = df.drop('failure_status', axis=1)\n",
    "y = df['failure_status']\n",
    "\n",
    "# Train-test split\n",
    "X_train, X_test, y_train, y_test = train_test_split(X, y, test_size=0.2, random_state=42, stratify=y)\n",
    "\n",
    "# Handle class imbalance\n",
    "smote = SMOTE(random_state=42)\n",
    "X_train_res, y_train_res = smote.fit_resample(X_train, y_train)\n",
    "\n",
    "# Feature scaling\n",
    "scaler = StandardScaler()\n",
    "X_train_scaled = scaler.fit_transform(X_train_res)\n",
    "X_test_scaled = scaler.transform(X_test)"
   ]
  },
  {
   "cell_type": "code",
   "execution_count": 4,
   "id": "1e4bf36f-bf52-427a-903a-3a1ae8dca9b9",
   "metadata": {},
   "outputs": [
    {
     "name": "stdout",
     "output_type": "stream",
     "text": [
      "              precision    recall  f1-score   support\n",
      "\n",
      "           0       0.90      0.88      0.89        42\n",
      "           1       0.99      0.99      0.99       358\n",
      "\n",
      "    accuracy                           0.98       400\n",
      "   macro avg       0.94      0.93      0.94       400\n",
      "weighted avg       0.98      0.98      0.98       400\n",
      "\n",
      "Model saved!\n"
     ]
    }
   ],
   "source": [
    "# Training and Saving the Model\n",
    "from sklearn.ensemble import RandomForestClassifier\n",
    "import joblib\n",
    "\n",
    "# Initialize and train model+\n",
    "model = RandomForestClassifier(n_estimators=100, random_state=42)\n",
    "model.fit(X_train_scaled, y_train_res)\n",
    "\n",
    "# Evaluate\n",
    "from sklearn.metrics import classification_report\n",
    "y_pred = model.predict(X_test_scaled)\n",
    "print(classification_report(y_test, y_pred))\n",
    "\n",
    "# Save model and scaler\n",
    "joblib.dump(model, 'model.pkl')\n",
    "joblib.dump(scaler, 'scaler.pkl')\n",
    "print(\"Model saved!\")"
   ]
  },
  {
   "cell_type": "code",
   "execution_count": 7,
   "id": "02dc7373-2cdf-4830-ba9c-565d7fc4d182",
   "metadata": {},
   "outputs": [],
   "source": [
    "#creating prediction function\n",
    "def predict_failure(temperature, vibration, power_usage, hours_used):\n",
    "    \"\"\"Predict washing machine failure probability.\"\"\"\n",
    "    \n",
    "    # Load model and scaler\n",
    "    model = joblib.load('model.pkl')\n",
    "    scaler = joblib.load('scaler.pkl')\n",
    "    \n",
    "    # Create input array\n",
    "    X_new = np.array([[temperature, vibration, power_usage, hours_used]])\n",
    "    \n",
    "    # Scale features\n",
    "    X_new_scaled = scaler.transform(X_new)\n",
    "    \n",
    "    # Make prediction\n",
    "    pred = model.predict(X_new_scaled)[0]\n",
    "    proba = model.predict_proba(X_new_scaled)[0][1]\n",
    "    \n",
    "    # Return results\n",
    "    result = {\n",
    "        'prediction': 'Failure Likely' if pred == 1 else 'Normal',\n",
    "        'probability': f\"{proba:.1%}\",\n",
    "        'temperature': temperature,\n",
    "        'vibration': vibration\n",
    "    }\n",
    "    return result"
   ]
  },
  {
   "cell_type": "code",
   "execution_count": 3,
   "id": "4964ff8d-3cf9-46d4-9e54-9ed30097432b",
   "metadata": {},
   "outputs": [
    {
     "data": {
      "application/vnd.jupyter.widget-view+json": {
       "model_id": "662aa349460f40009a754e66ebbc2ae3",
       "version_major": 2,
       "version_minor": 0
      },
      "text/plain": [
       "interactive(children=(FloatSlider(value=45.0, description='temperature', max=80.0, min=20.0, step=1.0), FloatS…"
      ]
     },
     "metadata": {},
     "output_type": "display_data"
    },
    {
     "data": {
      "text/plain": [
       "<function __main__.interactive_prediction(temperature, vibration, power_usage, hours_used)>"
      ]
     },
     "execution_count": 3,
     "metadata": {},
     "output_type": "execute_result"
    }
   ],
   "source": [
    "from ipywidgets import interact, FloatSlider\n",
    "import matplotlib.pyplot as plt\n",
    "import numpy as np\n",
    "import joblib\n",
    "\n",
    "# Load your model and scaler\n",
    "model = joblib.load('model.pkl')\n",
    "scaler = joblib.load('scaler.pkl')\n",
    "\n",
    "def predict_failure(temperature, vibration, power_usage, hours_used):\n",
    "    \"\"\"Predict using your actual model\"\"\"\n",
    "    X_new = np.array([[temperature, vibration, power_usage, hours_used]])\n",
    "    X_new_scaled = scaler.transform(X_new)\n",
    "    pred = model.predict(X_new_scaled)[0]\n",
    "    proba = model.predict_proba(X_new_scaled)[0][1]\n",
    "    return {\n",
    "        'prediction': 'Failure Likely' if pred == 1 else 'Normal',\n",
    "        'probability': f\"{proba:.1%}\"\n",
    "    }\n",
    "\n",
    "def interactive_prediction(temperature, vibration, power_usage, hours_used):\n",
    "    result = predict_failure(temperature, vibration, power_usage, hours_used)\n",
    "    \n",
    "    fig, (ax1, ax2) = plt.subplots(1, 2, figsize=(12, 4))\n",
    "    \n",
    "    # Gauge chart - CORRECTED SYNTAX\n",
    "    prob = float(result['probability'].strip('%'))/100\n",
    "    ax1.pie(\n",
    "        [prob, 1-prob],\n",
    "        labels=['Failure', 'Normal'],\n",
    "        colors=['#ff6b6b', '#51cf66'],\n",
    "        startangle=90,\n",
    "        wedgeprops={'width': 0.3}  # Changed from dict(width=0.3) to avoid syntax issues\n",
    "    )\n",
    "    ax1.text(0, 0, result['probability'], ha='center', va='center', fontsize=20)\n",
    "    ax1.set_title('Failure Probability', pad=20)\n",
    "    \n",
    "    # Feature indicators\n",
    "    features = {\n",
    "        'Temperature': temperature,\n",
    "        'Vibration': vibration,\n",
    "        'Power Usage': power_usage,\n",
    "        'Hours Used': hours_used\n",
    "    }\n",
    "    ax2.barh(list(features.keys()), list(features.values()), color='#4cc9f0')\n",
    "    ax2.set_title('Input Features')\n",
    "    ax2.set_xlim(0, max(features.values())*1.1)\n",
    "    \n",
    "    plt.tight_layout()\n",
    "    plt.show()\n",
    "    print(f\"Final Prediction: {result['prediction']} ({result['probability']} probability)\")\n",
    "\n",
    "# Now run the widget\n",
    "interact(\n",
    "    interactive_prediction,\n",
    "    temperature=FloatSlider(min=20, max=80, step=1, value=45),\n",
    "    vibration=FloatSlider(min=0, max=10, step=0.1, value=3),\n",
    "    power_usage=FloatSlider(min=200, max=800, step=10, value=500),\n",
    "    hours_used=FloatSlider(min=0, max=5000, step=100, value=2000)\n",
    ")"
   ]
  },
  {
   "cell_type": "code",
   "execution_count": 3,
   "id": "e479af78-2c23-4464-b81e-52fc06709aab",
   "metadata": {},
   "outputs": [
    {
     "ename": "NameError",
     "evalue": "name 'model' is not defined",
     "output_type": "error",
     "traceback": [
      "\u001b[1;31m---------------------------------------------------------------------------\u001b[0m",
      "\u001b[1;31mNameError\u001b[0m                                 Traceback (most recent call last)",
      "Cell \u001b[1;32mIn[3], line 4\u001b[0m\n\u001b[0;32m      1\u001b[0m \u001b[38;5;66;03m# Save both model and scaler to files (run this in Jupyter)\u001b[39;00m\n\u001b[0;32m      2\u001b[0m \u001b[38;5;28;01mimport\u001b[39;00m \u001b[38;5;21;01mjoblib\u001b[39;00m\n\u001b[1;32m----> 4\u001b[0m joblib\u001b[38;5;241m.\u001b[39mdump(model, \u001b[38;5;124m'\u001b[39m\u001b[38;5;124mmodel.pkl\u001b[39m\u001b[38;5;124m'\u001b[39m)  \u001b[38;5;66;03m#trained model\u001b[39;00m\n\u001b[0;32m      5\u001b[0m joblib\u001b[38;5;241m.\u001b[39mdump(scaler, \u001b[38;5;124m'\u001b[39m\u001b[38;5;124mscaler.pkl\u001b[39m\u001b[38;5;124m'\u001b[39m)  \u001b[38;5;66;03m#scaler\u001b[39;00m\n\u001b[0;32m      7\u001b[0m \u001b[38;5;28mprint\u001b[39m(\u001b[38;5;124m\"\u001b[39m\u001b[38;5;124mModel files saved!\u001b[39m\u001b[38;5;124m\"\u001b[39m)\n",
      "\u001b[1;31mNameError\u001b[0m: name 'model' is not defined"
     ]
    }
   ],
   "source": [
    "# Save both model and scaler to files (run this in Jupyter)\n",
    "import joblib\n",
    "\n",
    "joblib.dump(model, 'model.pkl')  #trained model\n",
    "joblib.dump(scaler, 'scaler.pkl')  #scaler\n",
    "\n",
    "print(\"Model files saved!\")"
   ]
  },
  {
   "cell_type": "code",
   "execution_count": null,
   "id": "05e9f0ce-42a7-40e3-8be8-6c91652f627e",
   "metadata": {},
   "outputs": [],
   "source": [
    "\n"
   ]
  },
  {
   "cell_type": "code",
   "execution_count": null,
   "id": "15114681-6243-4ac3-b5ed-649cd05e4a53",
   "metadata": {},
   "outputs": [],
   "source": []
  }
 ],
 "metadata": {
  "kernelspec": {
   "display_name": "Python 3 (ipykernel)",
   "language": "python",
   "name": "python3"
  },
  "language_info": {
   "codemirror_mode": {
    "name": "ipython",
    "version": 3
   },
   "file_extension": ".py",
   "mimetype": "text/x-python",
   "name": "python",
   "nbconvert_exporter": "python",
   "pygments_lexer": "ipython3",
   "version": "3.12.7"
  }
 },
 "nbformat": 4,
 "nbformat_minor": 5
}
